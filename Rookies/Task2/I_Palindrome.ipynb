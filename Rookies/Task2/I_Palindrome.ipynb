{
  "cells": [
    {
      "cell_type": "code",
      "source": [
        "s = input()\n",
        "print(\"YES\" if s == s[::-1] else \"NO\")"
      ],
      "metadata": {
        "id": "jABfMEvIzVby"
      },
      "id": "jABfMEvIzVby",
      "execution_count": null,
      "outputs": []
    },
    {
      "cell_type": "code",
      "source": [],
      "metadata": {
        "id": "rp4z2Yg-zV76"
      },
      "id": "rp4z2Yg-zV76",
      "execution_count": null,
      "outputs": []
    }
  ],
  "metadata": {
    "colab": {
      "provenance": []
    }
  },
  "nbformat": 4,
  "nbformat_minor": 5
}