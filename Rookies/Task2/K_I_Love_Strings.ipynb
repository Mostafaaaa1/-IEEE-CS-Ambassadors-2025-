{
  "cells": [
    {
      "cell_type": "code",
      "source": [
        "n = int(input())\n",
        "for _ in range(n):\n",
        "    s, t = input().split()\n",
        "    result = \"\"\n",
        "    for i in range(max(len(s), len(t))):\n",
        "        if i < len(s):\n",
        "            result += s[i]\n",
        "        if i < len(t):\n",
        "            result += t[i]\n",
        "    print(result)"
      ],
      "metadata": {
        "id": "HMMs03WuyCG5"
      },
      "id": "HMMs03WuyCG5",
      "execution_count": null,
      "outputs": []
    },
    {
      "cell_type": "code",
      "source": [],
      "metadata": {
        "id": "47Ado21QyDAO"
      },
      "id": "47Ado21QyDAO",
      "execution_count": null,
      "outputs": []
    }
  ],
  "metadata": {
    "colab": {
      "provenance": []
    }
  },
  "nbformat": 4,
  "nbformat_minor": 5
}