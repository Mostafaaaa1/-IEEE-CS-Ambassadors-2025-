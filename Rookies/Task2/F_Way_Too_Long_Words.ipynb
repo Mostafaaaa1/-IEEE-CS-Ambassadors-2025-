{
  "cells": [
    {
      "cell_type": "code",
      "source": [
        "t = int(input())\n",
        "for _ in range(t):\n",
        "    s = input()\n",
        "    if len(s) > 10:\n",
        "        print(f\"{s[0]}{len(s)-2}{s[-1]}\")\n",
        "    else:\n",
        "        print(s)"
      ],
      "metadata": {
        "id": "U-CXwMrPxICb"
      },
      "id": "U-CXwMrPxICb",
      "execution_count": null,
      "outputs": []
    }
  ],
  "metadata": {
    "colab": {
      "provenance": []
    }
  },
  "nbformat": 4,
  "nbformat_minor": 5
}