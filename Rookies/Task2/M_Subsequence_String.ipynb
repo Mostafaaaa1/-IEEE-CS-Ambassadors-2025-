{
  "cells": [
    {
      "cell_type": "code",
      "source": [
        "s = input()\n",
        "target = \"hello\"\n",
        "idx = 0\n",
        "for ch in s:\n",
        "    if idx < len(target) and ch == target[idx]:\n",
        "        idx += 1\n",
        "print(\"YES\" if idx == len(target) else \"NO\")"
      ],
      "metadata": {
        "id": "30MoUHTrxvnZ"
      },
      "id": "30MoUHTrxvnZ",
      "execution_count": null,
      "outputs": []
    }
  ],
  "metadata": {
    "colab": {
      "provenance": []
    }
  },
  "nbformat": 4,
  "nbformat_minor": 5
}