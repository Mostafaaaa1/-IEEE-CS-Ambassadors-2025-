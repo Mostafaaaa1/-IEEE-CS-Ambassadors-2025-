{
  "cells": [
    {
      "cell_type": "code",
      "source": [
        "s = input()\n",
        "words = s.split()\n",
        "reversed_words = [word[::-1] for word in words]\n",
        "print(\" \".join(reversed_words))"
      ],
      "metadata": {
        "id": "9q4i1SuPyN8x"
      },
      "id": "9q4i1SuPyN8x",
      "execution_count": null,
      "outputs": []
    }
  ],
  "metadata": {
    "colab": {
      "provenance": []
    }
  },
  "nbformat": 4,
  "nbformat_minor": 5
}