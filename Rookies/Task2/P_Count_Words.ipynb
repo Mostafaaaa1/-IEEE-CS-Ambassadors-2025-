{
  "cells": [
    {
      "cell_type": "code",
      "source": [
        "import re\n",
        "s = input()\n",
        "words = re.findall(r\"[a-zA-Z]+\", s)\n",
        "print(len(words))"
      ],
      "metadata": {
        "id": "6O95Hmn2xgxp"
      },
      "id": "6O95Hmn2xgxp",
      "execution_count": null,
      "outputs": []
    },
    {
      "cell_type": "code",
      "source": [],
      "metadata": {
        "id": "wA0elu88xhQ8"
      },
      "id": "wA0elu88xhQ8",
      "execution_count": null,
      "outputs": []
    }
  ],
  "metadata": {
    "colab": {
      "provenance": []
    },
    "language_info": {
      "name": "python"
    },
    "kernelspec": {
      "name": "python3",
      "display_name": "Python 3"
    }
  },
  "nbformat": 4,
  "nbformat_minor": 5
}