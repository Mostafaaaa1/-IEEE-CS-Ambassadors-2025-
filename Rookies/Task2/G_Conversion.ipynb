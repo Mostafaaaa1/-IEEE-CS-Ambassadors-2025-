{
  "cells": [
    {
      "cell_type": "code",
      "source": [
        "s = input()\n",
        "converted = \"\"\n",
        "for ch in s:\n",
        "    if ch == ',':\n",
        "        converted += ' '\n",
        "    elif ch.islower():\n",
        "        converted += ch.upper()\n",
        "    elif ch.isupper():\n",
        "        converted += ch.lower()\n",
        "    else:\n",
        "        converted += ch\n",
        "print(converted)"
      ],
      "metadata": {
        "id": "qKGKykYkxVu4"
      },
      "id": "qKGKykYkxVu4",
      "execution_count": null,
      "outputs": []
    }
  ],
  "metadata": {
    "colab": {
      "provenance": []
    }
  },
  "nbformat": 4,
  "nbformat_minor": 5
}