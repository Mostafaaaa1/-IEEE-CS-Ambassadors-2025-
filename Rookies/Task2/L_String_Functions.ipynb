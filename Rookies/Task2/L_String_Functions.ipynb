{
  "cells": [
    {
      "cell_type": "code",
      "source": [
        "\n",
        "n, q = map(int, input().split())\n",
        "s = list(input())\n",
        "\n",
        "for _ in range(q):\n",
        "    query = input().split()\n",
        "\n",
        "    if query[0] == \"pop_back\":\n",
        "        s.pop()\n",
        "    elif query[0] == \"front\":\n",
        "        print(s[0])\n",
        "    elif query[0] == \"back\":\n",
        "        print(s[-1])\n",
        "    elif query[0] == \"sort\":\n",
        "        l = int(query[1]) - 1\n",
        "        r = int(query[2])\n",
        "        s[l:r] = sorted(s[l:r])\n",
        "    elif query[0] == \"reverse\":\n",
        "        l = int(query[1]) - 1\n",
        "        r = int(query[2])\n",
        "        s[l:r] = s[l:r][::-1]\n",
        "    elif query[0] == \"print\":\n",
        "        pos = int(query[1]) - 1\n",
        "        print(s[pos])\n",
        "    elif query[0] == \"substr\":\n",
        "        l = int(query[1]) - 1\n",
        "        r = int(query[2])\n",
        "        print(\"\".join(s[l:r]))\n",
        "    elif query[0] == \"push_back\":\n",
        "        s.append(query[1])"
      ],
      "metadata": {
        "id": "3jJKE3MKwyq4"
      },
      "id": "3jJKE3MKwyq4",
      "execution_count": null,
      "outputs": []
    },
    {
      "cell_type": "code",
      "source": [],
      "metadata": {
        "id": "M1ugvCFkw13M"
      },
      "id": "M1ugvCFkw13M",
      "execution_count": null,
      "outputs": []
    }
  ],
  "metadata": {
    "colab": {
      "provenance": []
    },
    "language_info": {
      "name": "python"
    },
    "kernelspec": {
      "name": "python3",
      "display_name": "Python 3"
    }
  },
  "nbformat": 4,
  "nbformat_minor": 5
}